{
 "cells": [
  {
   "cell_type": "code",
   "execution_count": 11,
   "id": "1007efbd",
   "metadata": {},
   "outputs": [
    {
     "name": "stderr",
     "output_type": "stream",
     "text": [
      "/opt/conda/lib/python3.8/site-packages/librosa/core/audio.py:165: UserWarning: PySoundFile failed. Trying audioread instead.\n",
      "  warnings.warn(\"PySoundFile failed. Trying audioread instead.\")\n"
     ]
    },
    {
     "name": "stdout",
     "output_type": "stream",
     "text": [
      "[DEBUG] wav.shape - before: (152452,)\n",
      "[DEBUG] wav.shape - after : (151410,)\n"
     ]
    }
   ],
   "source": [
    "import numpy as np\n",
    "import librosa\n",
    "\n",
    "def aud_to_mel(wav, fps, sr):\n",
    "    hop_length = int(sr / fps)\n",
    "    print(f'[DEBUG] wav.shape - before: {wav.shape}')\n",
    "    wav = wav[:(wav.shape[0] // hop_length) * hop_length]\n",
    "    print(f'[DEBUG] wav.shape - after : {wav.shape}')\n",
    "    mel = librosa.feature.melspectrogram(\n",
    "        wav,\n",
    "        sr=sr,\n",
    "        hop_length=hop_length,\n",
    "    )\n",
    "    recon_wav = librosa.feature.inverse.mel_to_audio(\n",
    "        mel,\n",
    "        sr=sr,\n",
    "        hop_length=hop_length,\n",
    "    )\n",
    "    if wav.shape[0] != recon_wav.shape[0]:\n",
    "        raise ValueError(f'wav({wav.shape}) and recon_wav({recon_wav.shape}) are not matched in audio_path: {audio_path}')\n",
    "    return mel, recon_wav\n",
    "\n",
    "vid_id = 'id10011#TsWNxShkS9A#001943#002015'\n",
    "mp4_path = f'vox/train/{vid_id}_vid.mp4'\n",
    "wav, _ = librosa.load(mp4_path, sr=44100)\n",
    "mel, recon_wav = aud_to_mel(wav, fps=30, sr=44100)"
   ]
  },
  {
   "cell_type": "code",
   "execution_count": 12,
   "id": "0c172a48",
   "metadata": {},
   "outputs": [
    {
     "name": "stdout",
     "output_type": "stream",
     "text": [
      "(152452,) (128, 104) (151410,) 86\n"
     ]
    }
   ],
   "source": [
    "from pathlib import Path\n",
    "\n",
    "png_path = Path(f'vox/train/{vid_id}.mp4')\n",
    "frame_paths = list(png_path.iterdir())\n",
    "print(wav.shape, mel.shape, recon_wav.shape, len(frame_paths))"
   ]
  },
  {
   "cell_type": "code",
   "execution_count": null,
   "id": "c8c043e2",
   "metadata": {},
   "outputs": [],
   "source": []
  }
 ],
 "metadata": {
  "kernelspec": {
   "display_name": "Python 3 (ipykernel)",
   "language": "python",
   "name": "python3"
  }
 },
 "nbformat": 4,
 "nbformat_minor": 5
}
